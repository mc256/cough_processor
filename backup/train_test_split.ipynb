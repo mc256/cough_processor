{
 "cells": [
  {
   "cell_type": "markdown",
   "source": [
    "### Train Test Split and Segment Generator\n",
    "\n",
    "This file does the following\n",
    "- Check if the feature file is available in the file system\n",
    "- Do the train test split\n",
    "- Segment the audio file into small windows (64ms)\n",
    "\n"
   ],
   "metadata": {
    "collapsed": false,
    "pycharm": {
     "name": "#%% md\n"
    }
   }
  },
  {
   "cell_type": "code",
   "execution_count": 2,
   "metadata": {
    "collapsed": true,
    "pycharm": {
     "is_executing": false
    }
   },
   "outputs": [],
   "source": [
    "import os\n",
    "import torch\n",
    "import pandas as pd\n",
    "import numpy as np\n",
    "import torch as th\n",
    "from torch.utils.data import Dataset, DataLoader, random_split\n",
    "from sklearn.model_selection import train_test_split\n",
    "import matplotlib.pyplot as plt\n",
    "\n",
    "import torch.nn as nn\n",
    "from torch.utils.tensorboard import SummaryWriter\n",
    "\n",
    "import pickle\n",
    "from tqdm import tqdm_notebook as tqdm"
   ]
  },
  {
   "cell_type": "code",
   "execution_count": 3,
   "outputs": [],
   "source": [
    "SEED = 2333333\n",
    "WINDOW_SIZE = 64\n",
    "SR = 16000"
   ],
   "metadata": {
    "collapsed": false,
    "pycharm": {
     "name": "#%%\n",
     "is_executing": false
    }
   }
  },
  {
   "cell_type": "code",
   "execution_count": 4,
   "outputs": [],
   "source": [
    "# Base Path\n",
    "BASE_PATH = '/home/jlchen/sandbox/'\n"
   ],
   "metadata": {
    "collapsed": false,
    "pycharm": {
     "name": "#%%\n",
     "is_executing": false
    }
   }
  },
  {
   "cell_type": "code",
   "execution_count": 5,
   "outputs": [
    {
     "name": "stdout",
     "text": [
      "63968 842 65979\n"
     ],
     "output_type": "stream"
    }
   ],
   "source": [
    "# Read Current Labels\n",
    "table_fine = pd.read_csv(os.path.join(BASE_PATH,'./fine_grained_annotation.csv'), index_col=0)\n",
    "id_true_fine_list = table_fine[table_fine['label']=='Cough']['coarse_grained_annotation_id'].unique()\n",
    "id_fine_list = table_fine['coarse_grained_annotation_id'].unique()\n",
    "\n",
    "table_coarse = pd.read_csv(os.path.join(BASE_PATH, 'coarse_grained_annotation.csv'), index_col=0)\n",
    "id_true_coarse_list = table_coarse[table_coarse['label']==True]['id'].unique()\n",
    "id_coarse_list = table_coarse['id'].unique() \n",
    "id_false_coarse_list = list(set(id_coarse_list) - set(id_true_coarse_list) - set(id_true_fine_list))\n",
    "\n",
    "id_all = list(set(id_fine_list).union(set(id_coarse_list)))\n",
    "\n",
    "print(\n",
    "    len(id_false_coarse_list),\n",
    "    len(id_true_fine_list),\n",
    "    len(id_all)\n",
    ")"
   ],
   "metadata": {
    "collapsed": false,
    "pycharm": {
     "name": "#%%\n",
     "is_executing": false
    }
   }
  },
  {
   "cell_type": "code",
   "execution_count": 6,
   "outputs": [
    {
     "name": "stderr",
     "text": [
      "/home/jlchen/Documents/CSC2228/venv/lib/python3.7/site-packages/ipykernel_launcher.py:5: TqdmDeprecationWarning: This function will be removed in tqdm==5.0.0\n",
      "Please use `tqdm.notebook.tqdm` instead of `tqdm.tqdm_notebook`\n",
      "  \"\"\"\n"
     ],
     "output_type": "stream"
    },
    {
     "data": {
      "text/plain": "HBox(children=(FloatProgress(value=0.0, max=65979.0), HTML(value='')))",
      "application/vnd.jupyter.widget-view+json": {
       "version_major": 2,
       "version_minor": 0,
       "model_id": "78a91750ad4a4f3984d752dbfe5c2131"
      }
     },
     "metadata": {},
     "output_type": "display_data"
    },
    {
     "name": "stdout",
     "text": [
      "\n"
     ],
     "output_type": "stream"
    }
   ],
   "source": [
    "# Check Valid Files\n",
    "id_broken = []\n",
    "missing = 0\n",
    "audio_error = 0\n",
    "for audio_id in tqdm(id_all, total=len(id_all)):\n",
    "\n",
    "    file_path = os.path.join(BASE_PATH, \"feature/dnn_paper/dnn2016_%d.pkl\" % audio_id)\n",
    "    try:\n",
    "        with open(file_path, 'rb') as feature_handler:\n",
    "            data = pickle.load(feature_handler)\n",
    "    except OSError as e:\n",
    "        missing += 1\n",
    "        id_broken.append(audio_id)\n",
    "    except Exception as e:\n",
    "        audio_error += 1\n",
    "        id_broken.append(audio_id)"
   ],
   "metadata": {
    "collapsed": false,
    "pycharm": {
     "name": "#%%\n",
     "is_executing": false
    }
   }
  },
  {
   "cell_type": "code",
   "execution_count": 7,
   "outputs": [
    {
     "name": "stdout",
     "text": [
      "5 0\n"
     ],
     "output_type": "stream"
    }
   ],
   "source": [
    "print(\n",
    "    missing,\n",
    "    audio_error\n",
    ")\n",
    "\n",
    "print(id_broken)"
   ],
   "metadata": {
    "collapsed": false,
    "pycharm": {
     "name": "#%%\n",
     "is_executing": false
    }
   }
  },
  {
   "cell_type": "code",
   "execution_count": 8,
   "outputs": [],
   "source": [
    "id_false_coarse_list_valid = list(set(id_false_coarse_list) - set(id_broken))\n",
    "id_true_fine_list_valid = list(set(id_true_fine_list) - set(id_broken))"
   ],
   "metadata": {
    "collapsed": false,
    "pycharm": {
     "name": "#%%\n",
     "is_executing": false
    }
   }
  },
  {
   "cell_type": "code",
   "execution_count": 9,
   "outputs": [],
   "source": [
    "table_ready = pd.concat(\n",
    "    [\n",
    "        pd.DataFrame({\n",
    "            \"audio_id\": id_false_coarse_list_valid,\n",
    "            \"label\": False\n",
    "        }),\n",
    "        pd.DataFrame({\n",
    "            \"audio_id\": id_true_fine_list_valid,\n",
    "            \"label\": True\n",
    "        })\n",
    "    ],\n",
    "    ignore_index=True\n",
    ").set_index('audio_id', drop=True)"
   ],
   "metadata": {
    "collapsed": false,
    "pycharm": {
     "name": "#%%\n",
     "is_executing": false
    }
   }
  },
  {
   "cell_type": "code",
   "execution_count": 10,
   "outputs": [],
   "source": [
    "labels_temp, labels_test = train_test_split(\n",
    "    table_ready,\n",
    "    test_size=0.3,\n",
    "    random_state=SEED,\n",
    "    shuffle=True,\n",
    ")\n",
    "labels_train, labels_val = train_test_split(\n",
    "    labels_temp,\n",
    "    test_size=0.25,\n",
    "    random_state=SEED,\n",
    "    shuffle=True,\n",
    ")\n"
   ],
   "metadata": {
    "collapsed": false,
    "pycharm": {
     "name": "#%%\n",
     "is_executing": false
    }
   }
  },
  {
   "cell_type": "code",
   "execution_count": 61,
   "outputs": [],
   "source": [
    "def label_segmentation(label_list):\n",
    "    df_list=[]\n",
    "\n",
    "    for index, row in tqdm(label_list.iterrows(), total=label_list.shape[0]):\n",
    "        record_label = row['label']\n",
    "        audio_id = index\n",
    "        filepath = os.path.join(BASE_PATH, \"feature/dnn_paper/dnn2016_%d.pkl\" % audio_id)\n",
    "        try:\n",
    "            with open(filepath, 'rb') as handler:\n",
    "                data = pickle.load(handler)\n",
    "                audio_length = data['zxx_log'].shape[1]\n",
    "                \n",
    "                # COUGH\n",
    "                if record_label:\n",
    "                    # Load Fine Grained Data\n",
    "                    record_list = table_fine.loc[table_fine.coarse_grained_annotation_id == 33460, ['label','label_end','label_start']]\n",
    "                    cough_list = record_list[record_list.label == 'Cough']\n",
    "        \n",
    "                    # Encode One-hot Array for the cough event\n",
    "                    time_seq = np.repeat(False, audio_length)\n",
    "                    for index, cough in cough_list.iterrows():\n",
    "                        label_start = round(cough['label_start'] * SR) // WINDOW_SIZE\n",
    "                        label_end = round(cough['label_end'] * SR) // WINDOW_SIZE\n",
    "                        time_seq[label_start: label_end - 1] = True\n",
    "                    \n",
    "                    # Sliding Window\n",
    "                    padded = np.pad(time_seq, (0, 16), constant_values=(0, 0))\n",
    "                    rolling_list = np.array(\n",
    "                        (\n",
    "                            padded,\n",
    "                            np.roll(padded, -1),\n",
    "                            np.roll(padded, -2),\n",
    "                            np.roll(padded, -3),\n",
    "                            np.roll(padded, -4),\n",
    "                            np.roll(padded, -5),\n",
    "                            np.roll(padded, -6),\n",
    "                            np.roll(padded, -7),\n",
    "                            np.roll(padded, -8),\n",
    "                            np.roll(padded, -9),\n",
    "                            np.roll(padded, -10),\n",
    "                            np.roll(padded, -11),\n",
    "                            np.roll(padded, -12),\n",
    "                            np.roll(padded, -13),\n",
    "                            np.roll(padded, -14),\n",
    "                            np.roll(padded, -15),\n",
    "                        )\n",
    "                    )\n",
    "                \n",
    "                    labels = np.sum(rolling_list, axis=0) / 16.0\n",
    "                \n",
    "                    df_list.append(\n",
    "                        pd.DataFrame({\n",
    "                            \"audio\": audio_id,\n",
    "                            \"window_index\": np.arange(0, labels[:-16 - 15].shape[0]),\n",
    "                            \"label\": labels[:-16 - 15],\n",
    "                        })\n",
    "                    )            \n",
    "                \n",
    "                # NON-COUGH  \n",
    "                else:\n",
    "                    df_list.append(\n",
    "                        pd.DataFrame({\n",
    "                            \"audio\": audio_id,\n",
    "                            \"window_index\": np.arange(0, audio_length - 15),\n",
    "                            \"label\": 0,\n",
    "                        })\n",
    "                    ) \n",
    "                    \n",
    "                    pass\n",
    "        except Exception as e:\n",
    "            pass\n",
    "        \n",
    "    return pd.concat(df_list, ignore_index=True)"
   ],
   "metadata": {
    "collapsed": false,
    "pycharm": {
     "name": "#%%\n",
     "is_executing": false
    }
   }
  },
  {
   "cell_type": "code",
   "execution_count": null,
   "outputs": [
    {
     "name": "stderr",
     "text": [
      "/home/jlchen/Documents/CSC2228/venv/lib/python3.7/site-packages/ipykernel_launcher.py:8: TqdmDeprecationWarning: This function will be removed in tqdm==5.0.0\n",
      "Please use `tqdm.notebook.tqdm` instead of `tqdm.tqdm_notebook`\n",
      "  \n"
     ],
     "output_type": "stream"
    },
    {
     "data": {
      "text/plain": "HBox(children=(FloatProgress(value=0.0, max=34023.0), HTML(value='')))",
      "application/vnd.jupyter.widget-view+json": {
       "version_major": 2,
       "version_minor": 0,
       "model_id": "7d94a0db8ff74b4a8b7ad7a7c56bc4c0"
      }
     },
     "metadata": {},
     "output_type": "display_data"
    }
   ],
   "source": [
    "label_segmentation(labels_train).to_csv('./label/segmented_train_set.csv')\n",
    "label_segmentation(labels_val).to_csv('./label/segmented_val_set.csv')\n"
   ],
   "metadata": {
    "collapsed": false,
    "pycharm": {
     "name": "#%%\n",
     "is_executing": true
    }
   }
  },
  {
   "cell_type": "code",
   "execution_count": 58,
   "outputs": [],
   "source": [
    "labels_test.to_csv('./label/test_set.csv')\n"
   ],
   "metadata": {
    "collapsed": false,
    "pycharm": {
     "name": "#%%\n",
     "is_executing": false
    }
   }
  }
 ],
 "metadata": {
  "kernelspec": {
   "display_name": "Python 3",
   "language": "python",
   "name": "python3"
  },
  "language_info": {
   "codemirror_mode": {
    "name": "ipython",
    "version": 2
   },
   "file_extension": ".py",
   "mimetype": "text/x-python",
   "name": "python",
   "nbconvert_exporter": "python",
   "pygments_lexer": "ipython2",
   "version": "2.7.6"
  },
  "pycharm": {
   "stem_cell": {
    "cell_type": "raw",
    "source": [],
    "metadata": {
     "collapsed": false
    }
   }
  }
 },
 "nbformat": 4,
 "nbformat_minor": 0
}